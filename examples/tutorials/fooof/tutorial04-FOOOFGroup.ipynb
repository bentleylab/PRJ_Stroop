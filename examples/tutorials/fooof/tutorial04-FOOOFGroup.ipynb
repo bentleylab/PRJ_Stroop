{
  "cells": [
    {
      "cell_type": "code",
      "execution_count": null,
      "metadata": {
        "collapsed": false
      },
      "outputs": [],
      "source": [
        "%matplotlib inline"
      ]
    },
    {
      "cell_type": "markdown",
      "metadata": {},
      "source": [
        "\nTutorial 04 - FOOOFGroup\n========================\n\n"
      ]
    },
    {
      "cell_type": "markdown",
      "metadata": {},
      "source": [
        "FOOOFGroup\n----------\n\nThis tutorial covers running FOOOF across multiple power spectra, using FOOOFGroup, an object derived from the base FOOOF object.\n\nFor a more specific exploration of the base FOOOF object, and the underlying algorithm, go [here](02-FOOOF.ipynb).\n\n"
      ]
    },
    {
      "cell_type": "code",
      "execution_count": null,
      "metadata": {
        "collapsed": false
      },
      "outputs": [],
      "source": [
        "# FOOOF imports: get FOOOF & FOOOFGroup objects\nfrom fooof import FOOOFGroup\n\n# Import some utilities for synthesizing some test data\nfrom fooof.synth import gen_group_power_spectra, param_sampler"
      ]
    },
    {
      "cell_type": "markdown",
      "metadata": {},
      "source": [
        "Synthesizing Power Spectra\n--------------------------\n\nFOOOF includes some support for creating synthetic power-spectra, that mimic real data.\n\nHere we will use that functionality to create a matrix of power spectra to test with.\n\nHere we will use a helper function called 'param_sampler' that takes a list of possible parameters, and creates an object that randomly samples from them to generate power spectra.\n\nIf you would like to generate single power spectra, you can use 'gen_power_spectrum', also in fooof.synth.\n\n"
      ]
    },
    {
      "cell_type": "code",
      "execution_count": null,
      "metadata": {
        "collapsed": false
      },
      "outputs": [],
      "source": [
        "# Settings for synthesizing power spectra\nn_psds = 10\nf_range = [3, 40]\n\n# Set some options for background parameters\n#  Generated spectra will have an offset of either [20, 50, 35], and corresponding slope of [2., 2.5, 1.5]\nbgp_opts = param_sampler([[20, 2], [50, 2.5], [35, 1.5]])\n\n# Set some options for peak parameters\n#  Generated power spectra will have either no peaks, a 10 Hz peak, or a 10 Hz & 20 Hz peak\ngauss_opts = param_sampler([[], [10, 0.5, 2], [10, 0.5, 2, 20, 0.3, 4]])"
      ]
    },
    {
      "cell_type": "markdown",
      "metadata": {},
      "source": [
        "We can now feed these settings into 'gen_group_power_spectra', that will generate a group of power spectra for us.\n\nNote that this function also returns a list of the parameters used to generate each power spectrum.\n\n"
      ]
    },
    {
      "cell_type": "code",
      "execution_count": null,
      "metadata": {
        "collapsed": false
      },
      "outputs": [],
      "source": [
        "# Generate the group of synthetic spectra\n#  Note that this function also returns a list of the parameters for each func\nfreqs, spectra, syn_params = gen_group_power_spectra(n_psds, f_range, bgp_opts, gauss_opts)"
      ]
    },
    {
      "cell_type": "markdown",
      "metadata": {},
      "source": [
        "FOOOFGroup\n----------\n\nThe FOOOFGroup object is very similar to the FOOOF object (programmatically, it inherits from the FOOOF object), and can be used in the same way.\n\nThe main difference is that instead of running across a single power spectrum, it operates across 2D matrices containing multiple power spectra.\n\nNote that by 'group' we mean merely to refer to a group of power-spectra, not necessarily to a group in terms of multiple subjects or similar. Most likely, a FOOOFGroup will be run across a collection of spectra from across channels, and/or across trials, within or across subjects.\n\nThe main difference with the FOOOFGroup object, is that it also contains a 'power_spectra' attribute, which stores the matrix of power-spectra to be fit, and collects fit results into a 'group_results' attribute. Otherwise, FOOOFGroup supports all the same functionality, accessed in the same way as the FOOOF object.\n\nInternally, it runs the exact same fitting procedure, per spectrum, as the FOOOF object.\n\n"
      ]
    },
    {
      "cell_type": "code",
      "execution_count": null,
      "metadata": {
        "collapsed": false
      },
      "outputs": [],
      "source": [
        "# Initialize a FOOOFGroup object - it accepts all the same settings as FOOOF\nfg = FOOOFGroup(peak_width_limits=[1, 8], min_peak_amplitude=0.05, max_n_peaks=6)"
      ]
    },
    {
      "cell_type": "code",
      "execution_count": null,
      "metadata": {
        "collapsed": false
      },
      "outputs": [],
      "source": [
        "# Fit a group of power spectra with the .fit() method\n#  The key difference (compared to FOOOF) is that it takes a 2D array of spectra\n#     This matrix should have the shape of [n_spectra, n_freqs]\nfg.fit(freqs, spectra)"
      ]
    },
    {
      "cell_type": "code",
      "execution_count": null,
      "metadata": {
        "collapsed": false
      },
      "outputs": [],
      "source": [
        "# Print out results\nfg.print_results()"
      ]
    },
    {
      "cell_type": "code",
      "execution_count": null,
      "metadata": {
        "collapsed": false
      },
      "outputs": [],
      "source": [
        "# Plot a summary of the results across the group\n#  Note: given the simulations, we expect slopes at {1.5, 2.0. 2.5} and peaks around {10, 20}\nfg.plot()"
      ]
    },
    {
      "cell_type": "markdown",
      "metadata": {},
      "source": [
        "Just as with the FOOOF object, you can call the convenience method 'report' to run the fitting, and print results & plots, printing out the same as above.\n\n"
      ]
    },
    {
      "cell_type": "code",
      "execution_count": null,
      "metadata": {
        "collapsed": false
      },
      "outputs": [],
      "source": [
        "# You can also save out PDFs reports for FOOOFGroup fits, same as with FOOOF\nfg.save_report()"
      ]
    },
    {
      "cell_type": "code",
      "execution_count": null,
      "metadata": {
        "collapsed": false
      },
      "outputs": [],
      "source": [
        "# Check what the generated report looks like\nfrom IPython.display import IFrame\nIFrame(\"FOOOFGroup_Report.pdf\", width=950, height=1200)"
      ]
    },
    {
      "cell_type": "markdown",
      "metadata": {},
      "source": [
        "FOOOFGroup Data\n---------------\n\nFOOOFGroup collects fits across power spectra into a list of FOOOFResults objects.\n\n"
      ]
    },
    {
      "cell_type": "code",
      "execution_count": null,
      "metadata": {
        "collapsed": false
      },
      "outputs": [],
      "source": [
        "# As it runs, FOOOFGroup collects each fit results in 'group_results'\n#  'group_results' is a list of FOOOFResult objects\nfg.group_results[0:2]"
      ]
    },
    {
      "cell_type": "markdown",
      "metadata": {},
      "source": [
        "**get_all_data**\n\nTo collect data across all model fits, and to select specific data results from this data you can use the 'get_all_data' method. This method lets you extract specific results by specifying a field, as a string, and (optionally) a specific column of that data, also as a string (or, optionally, as an integer index).\n\n"
      ]
    },
    {
      "cell_type": "code",
      "execution_count": null,
      "metadata": {
        "collapsed": false
      },
      "outputs": [],
      "source": [
        "# Extract aperiodic data\nbgps = fg.get_all_data('background_params')\nsls = fg.get_all_data('background_params', 'slope')\n\n# Extract peak data\npeaks = fg.get_all_data('peak_params')\ncfs = fg.get_all_data('peak_params', 'CF')\n\n# Extract metadata about the model fit\nerrors = fg.get_all_data('error')\nr2s = fg.get_all_data('r_squared')"
      ]
    },
    {
      "cell_type": "code",
      "execution_count": null,
      "metadata": {
        "collapsed": false
      },
      "outputs": [],
      "source": [
        "# The full list of data you can specify is available in the documentation of 'get_all_data'\nget_ipython().magic('pinfo fg.get_all_data')"
      ]
    },
    {
      "cell_type": "markdown",
      "metadata": {},
      "source": [
        "More information about the data you can extract is also documented in the FOOOFResults object\n\n"
      ]
    },
    {
      "cell_type": "code",
      "execution_count": null,
      "metadata": {
        "collapsed": false
      },
      "outputs": [],
      "source": [
        "# Grab a particular FOOOFResults item\n#  Note that as a shortcut, you can index the FOOOFGroup object directly to access 'group_results'\nf_res = fg[0]\n\n# Check the documentation for the FOOOFResults - with full descriptions of the resulting data.\nprint(f_res.__doc__)"
      ]
    },
    {
      "cell_type": "markdown",
      "metadata": {},
      "source": [
        "##############################################################################\n\n"
      ]
    },
    {
      "cell_type": "code",
      "execution_count": null,
      "metadata": {
        "collapsed": false
      },
      "outputs": [],
      "source": [
        "# Check out the extracted slope values\n#  Note that this extraction will return an array of length equal to the number of model fits\n#    The model fit from which each data element originated is the index of this vector\nprint(sls)"
      ]
    },
    {
      "cell_type": "code",
      "execution_count": null,
      "metadata": {
        "collapsed": false
      },
      "outputs": [],
      "source": [
        "# Check the fit center-frequencies and slope values\n#  Note that when you extract peak data, an additional column is appended, specifying which model fit it came from\nprint(cfs)"
      ]
    },
    {
      "cell_type": "markdown",
      "metadata": {},
      "source": [
        "Saving & Loading with FOOOFGroup\n--------------------------------\n\nFOOOFGroup also support saving and loading, with same options as saving from FOOOF.\n\nThe only difference in saving FOOOFGroup, is that it saves out a 'jsonlines' file, in which each line is a JSON object, saving the specified data and results for a single power spectrum.\n\nNote that saving settings together with results will save out duplicated settings to each line in the output file, corresponding to each individual spectrum in the group, and so is somewhat inefficient. It is more parsimonious to save out a single settings file, and a separate file that includes the results.\n\n"
      ]
    },
    {
      "cell_type": "code",
      "execution_count": null,
      "metadata": {
        "collapsed": false
      },
      "outputs": [],
      "source": [
        "# Save out FOOOFGroup settings & results (separately)\nfg.save('FG_settings', save_settings=True)\nfg.save('FG_results', save_results=True)"
      ]
    },
    {
      "cell_type": "code",
      "execution_count": null,
      "metadata": {
        "collapsed": false
      },
      "outputs": [],
      "source": [
        "# You can then reload this group data\nnfg = FOOOFGroup()\nnfg.load('FG_results')"
      ]
    },
    {
      "cell_type": "code",
      "execution_count": null,
      "metadata": {
        "collapsed": false
      },
      "outputs": [],
      "source": [
        "# Print results to check that the loaded group\nnfg.print_results()"
      ]
    },
    {
      "cell_type": "markdown",
      "metadata": {},
      "source": [
        "Parallel Support\n----------------\n\nFOOOFGroup also has support for running in parallel, which can speed things up as each power spectrum is fit independently.\n\nThe fit method includes an optional parameter 'n_jobs', which if set at 1 (as default), will run FOOOF linearly. If you set this parameter to some other integer, fitting will launch 'n_jobs' number of jobs, in parallel. Setting n_jobs to -1 will launch in parallel across all available cores.\n\nNote, however, that running FOOOF in parallel does not gaurantee a quicker runtime overall. The computation time per FOOOF-fit scales with the frequency range fit over, and the 'complexity' of the power spectra, in terms of number of peaks. For relatively small numbers of power spectra (less than ~100), across relatively small frequency ranges (say ~3-40Hz), running in parallel may offer no appreciable speed up.\n\n"
      ]
    },
    {
      "cell_type": "code",
      "execution_count": null,
      "metadata": {
        "collapsed": false
      },
      "outputs": [],
      "source": [
        "# Run FOOOF fit across a group of power spectra in parallel, using all cores\nfg.fit(freqs, spectra, n_jobs=-1)"
      ]
    },
    {
      "cell_type": "markdown",
      "metadata": {},
      "source": [
        "Plotting Individual Fits\n------------------------\n\nWhen running FOOOF across a group of power spectra, results are stored as the FOOOFResults, which stores (only) the results of the model fit, not the full model fits themselves.\n\nTo examine individual model fits, FOOOFGroup can regenerate FOOOF objects for individual power spectra, with the full model available for visualization.\n\n"
      ]
    },
    {
      "cell_type": "code",
      "execution_count": null,
      "metadata": {
        "collapsed": false
      },
      "outputs": [],
      "source": [
        "# Extract a particular spectrum, specified by index to a FOOOF object\n#  Here we also specify to regenerate the the full model fit, from the results\nfm = fg.get_fooof(ind=2, regenerate=True)"
      ]
    },
    {
      "cell_type": "code",
      "execution_count": null,
      "metadata": {
        "collapsed": false
      },
      "outputs": [],
      "source": [
        "# Print results and plot extracted FOOOF model fit\nfm.print_results()\nfm.plot()"
      ]
    },
    {
      "cell_type": "markdown",
      "metadata": {},
      "source": [
        "To continue with the tutorial, with more examples of setting parameters, getting good fits, and troubleshooting issues, go [here](05-Tuning&Troubleshooting.ipynb).\n\n"
      ]
    }
  ],
  "metadata": {
    "kernelspec": {
      "display_name": "Python 3",
      "language": "python",
      "name": "python3"
    },
    "language_info": {
      "codemirror_mode": {
        "name": "ipython",
        "version": 3
      },
      "file_extension": ".py",
      "mimetype": "text/x-python",
      "name": "python",
      "nbconvert_exporter": "python",
      "pygments_lexer": "ipython3",
      "version": "3.6.6"
    }
  },
  "nbformat": 4,
  "nbformat_minor": 0
}