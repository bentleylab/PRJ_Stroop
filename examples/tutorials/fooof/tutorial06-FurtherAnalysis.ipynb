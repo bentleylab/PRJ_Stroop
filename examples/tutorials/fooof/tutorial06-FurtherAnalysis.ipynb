{
  "cells": [
    {
      "cell_type": "code",
      "execution_count": null,
      "metadata": {
        "collapsed": false
      },
      "outputs": [],
      "source": [
        "%matplotlib inline"
      ]
    },
    {
      "cell_type": "markdown",
      "metadata": {},
      "source": [
        "\nTutorial 06 - Further Analysis\n==============================\n\n"
      ]
    },
    {
      "cell_type": "markdown",
      "metadata": {},
      "source": [
        "FOOOF: Results Analysis\n-----------------------\n\nThis tutorial explores some basic examples analyzing the results from fitting FOOOF models.\n\nTo go back to code-based examples of using FOOOF, go [here](02-FOOOF.ipynb).\n\n\n"
      ]
    },
    {
      "cell_type": "markdown",
      "metadata": {},
      "source": [
        "Exploring FOOOF Analyses\n------------------------\n\nFOOOF is really a way to extract features of interest from your data.\n\nThese features can then be examined across or between groups of interest, or perhaps fed into further analysis.\n\nLargely, it is up to you what to do after running FOOOF, and depends on your questions of interest.\n\nHere, we briefly introduce some analysis utilities that are packaged with FOOOF, and explore some simple analyses that can be done with FOOOF outputs.\n\n"
      ]
    },
    {
      "cell_type": "code",
      "execution_count": null,
      "metadata": {
        "collapsed": false
      },
      "outputs": [],
      "source": [
        "# General imports\nimport numpy as np\n\n# Import FOOOF objects\nfrom fooof import FOOOF, FOOOFGroup\n\n# FOOOF comes with some basic analysis function to work with FOOOF outputs\nfrom fooof.analysis import get_band_peak, get_band_peak_group"
      ]
    },
    {
      "cell_type": "code",
      "execution_count": null,
      "metadata": {
        "collapsed": false
      },
      "outputs": [],
      "source": [
        "# Initialize a FOOOF object, and load data saved from previous tutorials\nfm = FOOOF()\nfm.load()\n\n# Initialize a FOOOFGroup, and load data saved from the previous tutorials\nfg = FOOOFGroup()\nfg.load()"
      ]
    },
    {
      "cell_type": "markdown",
      "metadata": {},
      "source": [
        "FOOOF Analysis Utilities\n------------------------\n\nFOOOF is packaged with minimal analysis utility functions.\n\nThe plan is for the FOOOF module to stay this way, as supporting further analysis of FOOOF-derived results is largely outside the scope of the current module.\n\nHere we only directly include and demonstrate utility functions covering very general use cases.\n\nIn particular, we include some utilities that are useful for parsing peak results, and extracting peaks from frequency ranges of interest.\n\n"
      ]
    },
    {
      "cell_type": "code",
      "execution_count": null,
      "metadata": {
        "collapsed": false
      },
      "outputs": [],
      "source": [
        "# Check out the documentation for the peak analyis helper function\nget_ipython().magic('pinfo get_band_peak')\n\n\n# ### Analyzing Band-Specific Oscillations"
      ]
    },
    {
      "cell_type": "code",
      "execution_count": null,
      "metadata": {
        "collapsed": false
      },
      "outputs": [],
      "source": [
        "# Set up indexes for accessing data, for convenience\ncf_ind, am_ind, bw_ind = 0, 1, 2"
      ]
    },
    {
      "cell_type": "code",
      "execution_count": null,
      "metadata": {
        "collapsed": false
      },
      "outputs": [],
      "source": [
        "# Define frequency bands of interest\ntheta_band = [4, 8]\nalpha_band = [8, 12]"
      ]
    },
    {
      "cell_type": "code",
      "execution_count": null,
      "metadata": {
        "collapsed": false
      },
      "outputs": [],
      "source": [
        "# Extract any theta band oscillations from the FOOOF model\nget_band_peak(fm.peak_params_, theta_band)"
      ]
    },
    {
      "cell_type": "markdown",
      "metadata": {},
      "source": [
        "The 'get_band_peak' function will extract peaks within a specified band from the results of a FOOOF fit.\n\nYou can optionally specify whether to return all oscillations within that band, or a singular result, which returns the highest power peak (if there are multiple).\n\n"
      ]
    },
    {
      "cell_type": "code",
      "execution_count": null,
      "metadata": {
        "collapsed": false
      },
      "outputs": [],
      "source": [
        "# Get all alpha oscillations from a FOOOFGroup object\nalphas = get_band_peak_group(fg.get_all_data('peak_params'), alpha_band, len(fg))"
      ]
    },
    {
      "cell_type": "code",
      "execution_count": null,
      "metadata": {
        "collapsed": false
      },
      "outputs": [],
      "source": [
        "# Check out some of the alpha data\nalphas[0:5, :]"
      ]
    },
    {
      "cell_type": "markdown",
      "metadata": {},
      "source": [
        "**get_band_peak_group**\n\nNote that the design of 'get_band_peak_group' is such that it will retain information regarding which oscillation came from with model fit.\n\nTo do so, it's output is organized such that each row corresponds to a specific model fit, such that the matrix returned is size [n_fits, 3].\n\nFor this to work, at most 1 peak is extracted for each model fit within the specified band.\n\nIf more than 1 peak are found within the band, the peak with the highest power is extracted. If no peaks are found, that row is filled with 'nan'.\n\n"
      ]
    },
    {
      "cell_type": "code",
      "execution_count": null,
      "metadata": {
        "collapsed": false
      },
      "outputs": [],
      "source": [
        "# Check descriptive statistics of oscillation data\nprint('Alpha CF : ', np.nanmean(alphas[:, cf_ind]))\nprint('Alpha Amp: ', np.nanmean(alphas[:, am_ind]))\nprint('Alpha BW : ', np.nanmean(alphas[:, bw_ind]))"
      ]
    },
    {
      "cell_type": "markdown",
      "metadata": {},
      "source": [
        "A Note on Frequency Ranges\n--------------------------\n\nA benefit of using FOOOF to model power spectra is that you do not have to define a priori frequency ranges from which to extract oscillations.\n\nNevertheless, it may still be useful to group extracted peaks into 'bands' of interest, which is why the aforementioned functions are offered.\n\nSince this frequency-range selection can be done after model fitting, we do recommend checking the model results, for example by checking a histogram of the center frequencies extracted across a group, in order to ensure the frequency ranges you choose reflect the characteristics of the data under studty.\n\n"
      ]
    },
    {
      "cell_type": "markdown",
      "metadata": {},
      "source": [
        "Analyzing the Aperiodic ('background') Signal\n---------------------------------------------\n\n"
      ]
    },
    {
      "cell_type": "code",
      "execution_count": null,
      "metadata": {
        "collapsed": false
      },
      "outputs": [],
      "source": [
        "# Extract slope data from group results\nsls = fg.get_all_data('background_params', 'slope')\n\n# Check out slope data\nsls"
      ]
    },
    {
      "cell_type": "markdown",
      "metadata": {},
      "source": [
        "Comparing Across PSDs\n---------------------\n\nBoth of the examples above preserve information about which PSD particular features come from. If the PSDs come from across electrodes, channels or source reconstructed vertices, for example, extracting data in this way can be used to examine topographical relationships within and between these features.\n\nIf your data comes from M/EEG, [MNE](https://github.com/mne-tools/mne-python) has visualization tools that you can use to, with a channel file and a vector of FOOOF output data, visualize FOOOF results across the scalp and/or cortex.\n\n"
      ]
    },
    {
      "cell_type": "markdown",
      "metadata": {},
      "source": [
        "Example FOOOF-related analyses\n------------------------------\n\n- Characterizing oscillations & aperiodic properties, and analyzing spatial topographies, across demographics, modalities, and tasks\n- Comparing oscillations within and between subjects across different tasks of interest\n- Predicting disease state based on FOOOF derived oscillation & aperiodic features\n- Using FOOOF on a trial by trial manner to decode task properties, and behavioural states\n\n"
      ]
    },
    {
      "cell_type": "markdown",
      "metadata": {},
      "source": [
        "This is the end of the FOOOF tutorial materials!\n\nIf you are having any troubles, please submit an issue on Github [here](https://github.com/voytekresearch/fooof), and/or get in contact with us at voytekresearch@gmail.com.\n\n\n"
      ]
    }
  ],
  "metadata": {
    "kernelspec": {
      "display_name": "Python 3",
      "language": "python",
      "name": "python3"
    },
    "language_info": {
      "codemirror_mode": {
        "name": "ipython",
        "version": 3
      },
      "file_extension": ".py",
      "mimetype": "text/x-python",
      "name": "python",
      "nbconvert_exporter": "python",
      "pygments_lexer": "ipython3",
      "version": "3.6.6"
    }
  },
  "nbformat": 4,
  "nbformat_minor": 0
}