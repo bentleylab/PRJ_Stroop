{
  "cells": [
    {
      "cell_type": "code",
      "execution_count": null,
      "metadata": {
        "collapsed": false
      },
      "outputs": [],
      "source": [
        "%matplotlib inline"
      ]
    },
    {
      "cell_type": "markdown",
      "metadata": {},
      "source": [
        "\nTutorial 05 - Tuning & Troubleshooting\n======================================\n\n"
      ]
    },
    {
      "cell_type": "markdown",
      "metadata": {},
      "source": [
        "This notebook covers tips & tricks for setting FOOOF parameters, tuning fits, and troubleshooting any issues.\n\nIf you want to first explore examples of using the FOOOF code base, go back [here](02-FOOOF.ipynb).\n\n"
      ]
    },
    {
      "cell_type": "code",
      "execution_count": null,
      "metadata": {
        "collapsed": false
      },
      "outputs": [],
      "source": [
        "import numpy as np\n\n# FOOOF imports\nfrom fooof import FOOOF, FOOOFGroup\n\n# Import some utilities, and tools for creating synthetic power-spectra\nfrom fooof.synth import gen_power_spectrum, gen_group_power_spectra, param_sampler\nfrom fooof.core.utils import group_three"
      ]
    },
    {
      "cell_type": "code",
      "execution_count": null,
      "metadata": {
        "collapsed": false
      },
      "outputs": [],
      "source": [
        "# Set random state, for consistency for generating synthetic data\nnp.random.seed(321)"
      ]
    },
    {
      "cell_type": "markdown",
      "metadata": {},
      "source": [
        "FOOOF Settings\n--------------\n\nWith default settings, FOOOF is minimally constrained. It defaults as such since there are not universal settings that work across all different dataset modalities. Appropriate settings also vary with power spectrum quality (noise, or effectively, the smoothness of the power spectrum), and frequency ranges.\n\nFor any given dataset, FOOOF will likely need some tuning of parameters for optimal performance.\n\nTo do so, we suggest using a combination of the following considerations:\n- A priori constraints, given your data, such as the number of peaks you expect to extract\n- Qualitative analysis, guided by examing the the plotted model fit results, as compared to input data\n- Quantitative analysis, considering the model fit and error (however, see note at the bottom regarding interpreting model fit error)\n\nTuning FOOOF is an imperfect art, and should be done carefully, as assumptions built into the settings chosen will impact the model results.\n\nWe also recommend that FOOOF settings should not be changed between power spectra (across channels, trials, or subjects), if they are to be meaningfully compared. We therefore recommend first testing out FOOOF across some representative spectra, in order to select FOOOF settings, which you then keep constant for the full analysis.\n\n"
      ]
    },
    {
      "cell_type": "markdown",
      "metadata": {},
      "source": [
        "Tuning FOOOF\n------------\n\nWith the defaults, FOOOF is relatively unconstrained, and therefore, most commonly FOOOF will overfit, being overzealous at fitting small noisy bumps as peaks. If you move to a new dataset, you may also find you need to relax some settings, for better fits. You also need to make sure you pick an appropriate aperiodic fitting procedure, and that your data meets the assumptions of the approach you choose.\n\nThe remainder of this notebook goes through some examples of setting FOOOF parameters to be most appropriate for various datasetes.\n\n"
      ]
    },
    {
      "cell_type": "markdown",
      "metadata": {},
      "source": [
        "Interpreting Model Fit Quality Measures\n---------------------------------------\n\nFOOOF calculates and returns a couple metrics to assist with assessing the quality of the model fits. It calculates both the model fit error, as the root mean-squared error (RMSE) between the full model fit ('fooofed\\_spectrum\\_)' and the original power spectrum, as well as the R-squared correspondance between the original spectrum and the FOOOFed result.\n\nThese scores can be used to assess how the model is performing. However interpreting these measures requires a bit of nuance. FOOOF is NOT optimized to minimize fit error / maximize r-squared at all costs. To do so typically results in fitting a large number of gaussian processes, in a way that overfits noise.\n\nFOOOF is therefore tuned to try and measure the aperiodic signal and peaks in a parsimonious manner, such as to not overfit noise, and following a fuzzy definition of only fitting peaks where there are actually significant peaks over and above the aperiodic signal, and the noise. One way we tested this is by assessing the model as compared to how expert human raters labeled putative oscillatory 'peaks'. As such, overall the model is not directly designed to optimize model fit error / r-squared.\n\nGiven this, while high error / low r-squared may indicate a poor model fit, very low error / high r-squared may also indicate a power spectrum that is overfit, in particular in which the peak parameters from the model may reflect overfitting by modelling too many peaks, and thus not offer a good description of the underlying data.\n\nWe therefore recommend that, for a given dataset, initial explorations should involve checking both cases in which model fit error is particularly large, as well as when it is particularly low. These explorations can be used to set parameters that are suitable for running across a group. There are not universal parameters that optimize this, and so FOOOF leaves it up to the user to set parameters appropriately to not under- or over-fit for a given modality / dataset / application.\n\n"
      ]
    },
    {
      "cell_type": "markdown",
      "metadata": {},
      "source": [
        "Reducing Overfitting\n--------------------\n\nIf FOOOF appears to be overfitting (for example, fitting too many Gaussians to small bumps), try:\n\n- Setting a lower-bound bandwidth-limit, to exclude fitting very narrow peaks, that may be noise\n- Setting a maximum number of peaks that the algorithm may fit: max_n_peaks\n    - If set, the algorithm will fit (up to) the max_n_peaks highest power peaks.\n- Setting a minimum absolute amplitude for peaks: min_peak_amplitude\n\n"
      ]
    },
    {
      "cell_type": "code",
      "execution_count": null,
      "metadata": {
        "collapsed": false
      },
      "outputs": [],
      "source": [
        "# Generate a noisy synthetic power spectrum\n\n# Set the frequency range to generate the power spectrum\nf_range = [1, 50]\n# Set aperiodic background signal parameters, as [offset, slope]\nbg_params = [20, 2]\n# Gaussian peak parameters\ngauss_params = [10, 1.0, 2.5, 20, 0.8, 2, 32, 0.6, 1]\n# Set the level of noise to generate the power spectrum with\nnlv = 0.1\n\n# Create a synthetic power spectrum\nfreqs, spectrum = gen_power_spectrum(f_range, bg_params, gauss_params, nlv)"
      ]
    },
    {
      "cell_type": "code",
      "execution_count": null,
      "metadata": {
        "collapsed": false
      },
      "outputs": [],
      "source": [
        "# Fit an (unconstrained) FOOOF model, liable to overfit\nfm = FOOOF()\nfm.report(freqs, spectrum)"
      ]
    },
    {
      "cell_type": "markdown",
      "metadata": {},
      "source": [
        "Notice that in the above fit, we are very likely to think that FOOOF has been overzealous in fitting peaks, and is therefore overfitting.\n\nThis is also suggested by the model r-squared, which is suspiciously high, given the amount of noise we expect.\n\nTo reduce this kind of overfitting, we can update the FOOOF parameters.\n\n"
      ]
    },
    {
      "cell_type": "code",
      "execution_count": null,
      "metadata": {
        "collapsed": false
      },
      "outputs": [],
      "source": [
        "# Update settings to fit a more constrained FOOOF model, to reduce overfitting\nfm = FOOOF(peak_width_limits=[1, 8], max_n_peaks=6, min_peak_amplitude=0.4)\nfm.report(freqs, spectrum)"
      ]
    },
    {
      "cell_type": "markdown",
      "metadata": {},
      "source": [
        "The synthetic definition is defined in terms of Gaussian parameters (these are slightly different from the peak parameters - see the note in tutorial 02).\n\nWe can compare how FOOOF, with our updated settings, compares to the ground truth of the synthetic spectrum.\n\n"
      ]
    },
    {
      "cell_type": "code",
      "execution_count": null,
      "metadata": {
        "collapsed": false
      },
      "outputs": [],
      "source": [
        "# Compare ground truth synthetic parameters to model fit results\nprint('Ground Truth \\t\\t FOOOF Reconstructions')\nfor sy, fi in zip(np.array(group_three(gauss_params)), fm._gaussian_params):\n    print('{:5.2f} {:5.2f} {:5.2f} \\t {:5.2f} {:5.2f} {:5.2f}'.format(*sy, *fi))"
      ]
    },
    {
      "cell_type": "markdown",
      "metadata": {},
      "source": [
        "### Power Spectra with No Peaks\n\nA known case in which FOOOF can overfit is in power spectra in which no peaks are present. In this case, the standard deviation can be very low, and so the relative amplitude check ('min_peak_threshold') is very liberal at keeping gaussian fits.\n\nIf you expect, or know, you have power spectra without peaks in your data, we therefore recommend making sure you set some value for 'min_peak_amplitude', as otherwise FOOOF is unlikely to appropriately fit power spectra as having no peaks. Setting this value requires checking the scale of your power spectra, allowing you to define an absolute threshold for extracting peaks.\n\n"
      ]
    },
    {
      "cell_type": "code",
      "execution_count": null,
      "metadata": {
        "collapsed": false
      },
      "outputs": [],
      "source": [
        "# ### Reducing Underfitting\n#\n# If you are finding that FOOOF is underfitting:\n# - First check and perhaps loosen any restrictions from 'max_n_peaks' and 'min_peak_amplitude'\n# - Try updating 'amp_std_thresh' to a lower value\n# - Bad fits may come from issues with aperiodic signal fitting. If so, see below."
      ]
    },
    {
      "cell_type": "markdown",
      "metadata": {},
      "source": [
        "#### Create a cleaner synthetic power spectrum\n\n"
      ]
    },
    {
      "cell_type": "code",
      "execution_count": null,
      "metadata": {
        "collapsed": false
      },
      "outputs": [],
      "source": [
        "# Set the frequency range to generate the power spectrum\nf_range = [1, 50]\n# Aperiodic parameters, as [offset, slope]\nbg_params = [20, 2]\n# Gaussian peak parameters\ngauss_params = [10, 1.0, 1.0, 20, 0.3, 1.5, 32, 0.25, 1]\n# Set the level of noise to generate the power spectrum with\nnlv = 0.025\n\n# Create a synthetic power spectrum\nfreqs, spectrum = gen_power_spectrum([1, 50], bg_params, gauss_params, nlv=nlv)\n\n\n# Update settings to make sure they are sensitive to smaller peaks in smoother power spectra\nfm = FOOOF(peak_width_limits=[1, 8], max_n_peaks=6, min_peak_amplitude=0.2)\nfm.report(freqs, spectrum)"
      ]
    },
    {
      "cell_type": "code",
      "execution_count": null,
      "metadata": {
        "collapsed": false
      },
      "outputs": [],
      "source": [
        "# Check reconstructed parameters from synthetic definition\nprint('Ground Truth \\t\\t FOOOF Reconstructions')\nfor sy, fi in zip(np.array(group_three(gauss_params)), fm._gaussian_params):\n    print('{:5.2f} {:5.2f} {:5.2f} \\t {:5.2f} {:5.2f} {:5.2f}'.format(*sy, *fi))"
      ]
    },
    {
      "cell_type": "markdown",
      "metadata": {},
      "source": [
        "Aperiodic Signal Fitting\n------------------------\n\nFOOOF currently offers two approaches for fitting the aperiodic 'background':\n\n- Fitting with just an offset and a slope, equivalent to a linear fit in log-log space\n    - background_mode = 'fixed'\n- Including a 'knee' parameter, reflecting a fit with a bend, in log-log space\n    - background_mode = 'knee'\n\nFitting without a knee assumes a single linear 1/f like characteristic to aperiodic signal, in log-log space. Fitting will go wrong if this assumption is violated. In particular, broad frequency ranges (often, greater than ~40 Hz range) don't meet this criterion, as they also exhibit a 'bend' in the aperiodic signal. For these cases, fitting should be done using a 'knee' parameter.\n\nFitting with a knee is still experimental, with a couple outstanding issues:\n- Interpreting the fit results when using knee fits is more complex, as the slope result is no longer a simple measure of a singular property, but rather reflects the slope past the 'knee' inflecting point, and as such, knee & slope values should be considered together.\n- Fitting FOOOF with knee fits may perform sub-optimally in ambiguous cases (where the data may or may not have a knee).\n\nGiven this, we recommend:\n\n- Check your data, across the frequency range of interest, for what the aperiodic signal looks like.\n    - If it looks roughly linear (in log-log space), fit without a knee.\n        - This is likely across smaller frequency ranges, such as 3-30.\n        - Do not perform no-knee fits across a range in which this does not hold.\n    - If there is a clear knee, then use knee fits.\n        - This is likely across larger fitting ranges such as 1-150 Hz.\n- Be wary of ambiguous ranges, where there may or may not be a knee.\n    - Trying to fit without a knee, when there is not a single consistent aperiodic signal, can lead to very bad fits. But it is also a known issue that trying to fit with a knee can lead to suboptimal fits when no knee is present.\n        - We therefore currently recommend picking frequency ranges in which the expected aperiodic signal process is relatively clear.\n\n"
      ]
    },
    {
      "cell_type": "markdown",
      "metadata": {},
      "source": [
        "### Checking Fits Across a Group\n\n"
      ]
    },
    {
      "cell_type": "code",
      "execution_count": null,
      "metadata": {
        "collapsed": false
      },
      "outputs": [],
      "source": [
        "# Set the parameters options for aperiodic signal and Gaussian peaks\nbgp_opts = param_sampler([[20, 2], [50, 2.5], [35, 1.5]])\ngauss_opts = param_sampler([[], [10, 0.5, 2], [10, 0.5, 2, 20, 0.3, 4]])\n\n# Generate a group of power spectra\nfreqs, power_spectra, syn_params = gen_group_power_spectra(10, [3, 50], bgp_opts, gauss_opts)"
      ]
    },
    {
      "cell_type": "code",
      "execution_count": null,
      "metadata": {
        "collapsed": false
      },
      "outputs": [],
      "source": [
        "# Initialize a FOOOFGroup\nfg = FOOOFGroup(peak_width_limits=[1, 6])"
      ]
    },
    {
      "cell_type": "code",
      "execution_count": null,
      "metadata": {
        "collapsed": false
      },
      "outputs": [],
      "source": [
        "# Fit FOOOF and report on the group\nfg.report(freqs, power_spectra)"
      ]
    },
    {
      "cell_type": "code",
      "execution_count": null,
      "metadata": {
        "collapsed": false
      },
      "outputs": [],
      "source": [
        "# Find the index of the worst FOOOF fit from the group\nworst_fit_ind = np.argmax(fg.get_all_data('error'))\n\n# Extract this FOOOF fit from the group, into a FOOOF object\nfm = fg.get_fooof(worst_fit_ind, regenerate=True)"
      ]
    },
    {
      "cell_type": "markdown",
      "metadata": {},
      "source": [
        "Check out the model fit of the extracted FOOOF model\n\n"
      ]
    },
    {
      "cell_type": "code",
      "execution_count": null,
      "metadata": {
        "collapsed": false
      },
      "outputs": [],
      "source": [
        "fm.print_results()\nfm.plot()"
      ]
    },
    {
      "cell_type": "markdown",
      "metadata": {},
      "source": [
        "You can also loop through all the results in a test group, extracting all fits that meet some criterion that makes them worth checking.\n\nThis might be checking for fits above some error threshold, as below, but note that you may also want to do a similar procedure to examine fits with the lowest error, to check if FOOOF may be overfitting, or perhaps fits with a particularly large number of gaussians.\n\n"
      ]
    },
    {
      "cell_type": "code",
      "execution_count": null,
      "metadata": {
        "collapsed": false
      },
      "outputs": [],
      "source": [
        "# Extract all fits that are above some error threshold, for further examination.\n#  You could also do a similar analysis for particularly low errors\nto_check = []\nfor ind, res in enumerate(fg):\n    if res.error > 0.010:\n        to_check.append(fg.get_fooof(ind, regenerate=True))\n\n# A more condensed version of the procedure above can also be used, like this:\n#to_check = [fg.get_fooof(ind, True) for ind, res in enumerate(fg) if res.error > 0.010]"
      ]
    },
    {
      "cell_type": "code",
      "execution_count": null,
      "metadata": {
        "collapsed": false
      },
      "outputs": [],
      "source": [
        "# Loop through the problem fits, checking the plots, and saving out reports, to check later.\nfor ind, fm in enumerate(to_check):\n    fm.plot()\n    fm.save_report('Report_ToCheck_#' + str(ind))"
      ]
    },
    {
      "cell_type": "markdown",
      "metadata": {},
      "source": [
        "### Reporting Bad Fits\n\nIf, after working through these suggestions, you are still getting bad fits, and/or are just not sure what is going on, please get in touch! We will hopefully be able to make further recommendations, and this also serves as a way for us to investigate when and why FOOOF fails, so that we can continue to make it better.\n\nYou can report issues on Github [here](https://github.com/voytekresearch/fooof/issues), or get in touch with us by e-mail at voytekresearch@gmail.com.\n\nFOOOF also includes a helper method to print out instructions for reporting bad fits / bugs back to us, as demonstrated below.\n\n\n"
      ]
    },
    {
      "cell_type": "code",
      "execution_count": null,
      "metadata": {
        "collapsed": false
      },
      "outputs": [],
      "source": [
        "# Print out instructions to report bad fits\n#  Note you can also call this from FOOOFGroup, and from instances (ex: fm.print_report_issue())\nFOOOF.print_report_issue()"
      ]
    }
  ],
  "metadata": {
    "kernelspec": {
      "display_name": "Python 3",
      "language": "python",
      "name": "python3"
    },
    "language_info": {
      "codemirror_mode": {
        "name": "ipython",
        "version": 3
      },
      "file_extension": ".py",
      "mimetype": "text/x-python",
      "name": "python",
      "nbconvert_exporter": "python",
      "pygments_lexer": "ipython3",
      "version": "3.6.6"
    }
  },
  "nbformat": 4,
  "nbformat_minor": 0
}