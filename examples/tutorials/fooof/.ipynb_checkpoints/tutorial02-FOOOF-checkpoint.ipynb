{
 "cells": [
  {
   "cell_type": "code",
   "execution_count": 1,
   "metadata": {},
   "outputs": [],
   "source": [
    "%matplotlib inline"
   ]
  },
  {
   "cell_type": "markdown",
   "metadata": {},
   "source": [
    "\n",
    "Tutorial 02 - FOOOF\n",
    "===================\n",
    "\n"
   ]
  },
  {
   "cell_type": "markdown",
   "metadata": {},
   "source": [
    "FOOOF (fitting oscillations & one over f) is a module to fit neural power spectra. This tutorial covers the fundamentals of the FOOOF codebase.\n",
    "\n",
    "\n"
   ]
  },
  {
   "cell_type": "markdown",
   "metadata": {},
   "source": [
    "For a theoretical description of the model, go [here](01-ModelDescription.ipynb), or for a more  detailed guide through the algorithm, in code, go [here](03-FOOOFAlgorithm.ipynb).\n",
    "\n"
   ]
  },
  {
   "cell_type": "code",
   "execution_count": 2,
   "metadata": {},
   "outputs": [],
   "source": [
    "import numpy as np\n",
    "import os\n",
    "\n",
    "# Import the FOOOF object\n",
    "from fooof import FOOOF"
   ]
  },
  {
   "cell_type": "code",
   "execution_count": null,
   "metadata": {},
   "outputs": [],
   "source": [
    "if os.path.isdir('/Volumes/hoycw_clust/'):\n",
    "    root_dir = '/Volumes/hoycw_clust/'\n",
    "elif os.path.isdir('')"
   ]
  },
  {
   "cell_type": "code",
   "execution_count": 3,
   "metadata": {},
   "outputs": [
    {
     "ename": "FileNotFoundError",
     "evalue": "[Errno 2] No such file or directory: 'dat/freqs.npy'",
     "output_type": "error",
     "traceback": [
      "\u001b[0;31m---------------------------------------------------------------------------\u001b[0m",
      "\u001b[0;31mFileNotFoundError\u001b[0m                         Traceback (most recent call last)",
      "\u001b[0;32m<ipython-input-3-a26ee60a2a5b>\u001b[0m in \u001b[0;36m<module>\u001b[0;34m\u001b[0m\n\u001b[1;32m      1\u001b[0m \u001b[0;31m# Load example data to use for this tutorial (a single example power spectrum)\u001b[0m\u001b[0;34m\u001b[0m\u001b[0;34m\u001b[0m\u001b[0;34m\u001b[0m\u001b[0m\n\u001b[0;32m----> 2\u001b[0;31m \u001b[0mfreqs\u001b[0m \u001b[0;34m=\u001b[0m \u001b[0mnp\u001b[0m\u001b[0;34m.\u001b[0m\u001b[0mload\u001b[0m\u001b[0;34m(\u001b[0m\u001b[0;34m'dat/freqs.npy'\u001b[0m\u001b[0;34m)\u001b[0m\u001b[0;34m\u001b[0m\u001b[0;34m\u001b[0m\u001b[0m\n\u001b[0m\u001b[1;32m      3\u001b[0m \u001b[0mspectrum\u001b[0m \u001b[0;34m=\u001b[0m \u001b[0mnp\u001b[0m\u001b[0;34m.\u001b[0m\u001b[0mload\u001b[0m\u001b[0;34m(\u001b[0m\u001b[0;34m'dat/spectrum.npy'\u001b[0m\u001b[0;34m)\u001b[0m\u001b[0;34m\u001b[0m\u001b[0;34m\u001b[0m\u001b[0m\n",
      "\u001b[0;32m//anaconda/envs/fooofenv/lib/python3.6/site-packages/numpy/lib/npyio.py\u001b[0m in \u001b[0;36mload\u001b[0;34m(file, mmap_mode, allow_pickle, fix_imports, encoding)\u001b[0m\n\u001b[1;32m    382\u001b[0m     \u001b[0mown_fid\u001b[0m \u001b[0;34m=\u001b[0m \u001b[0;32mFalse\u001b[0m\u001b[0;34m\u001b[0m\u001b[0;34m\u001b[0m\u001b[0m\n\u001b[1;32m    383\u001b[0m     \u001b[0;32mif\u001b[0m \u001b[0misinstance\u001b[0m\u001b[0;34m(\u001b[0m\u001b[0mfile\u001b[0m\u001b[0;34m,\u001b[0m \u001b[0mbasestring\u001b[0m\u001b[0;34m)\u001b[0m\u001b[0;34m:\u001b[0m\u001b[0;34m\u001b[0m\u001b[0;34m\u001b[0m\u001b[0m\n\u001b[0;32m--> 384\u001b[0;31m         \u001b[0mfid\u001b[0m \u001b[0;34m=\u001b[0m \u001b[0mopen\u001b[0m\u001b[0;34m(\u001b[0m\u001b[0mfile\u001b[0m\u001b[0;34m,\u001b[0m \u001b[0;34m\"rb\"\u001b[0m\u001b[0;34m)\u001b[0m\u001b[0;34m\u001b[0m\u001b[0;34m\u001b[0m\u001b[0m\n\u001b[0m\u001b[1;32m    385\u001b[0m         \u001b[0mown_fid\u001b[0m \u001b[0;34m=\u001b[0m \u001b[0;32mTrue\u001b[0m\u001b[0;34m\u001b[0m\u001b[0;34m\u001b[0m\u001b[0m\n\u001b[1;32m    386\u001b[0m     \u001b[0;32melif\u001b[0m \u001b[0mis_pathlib_path\u001b[0m\u001b[0;34m(\u001b[0m\u001b[0mfile\u001b[0m\u001b[0;34m)\u001b[0m\u001b[0;34m:\u001b[0m\u001b[0;34m\u001b[0m\u001b[0;34m\u001b[0m\u001b[0m\n",
      "\u001b[0;31mFileNotFoundError\u001b[0m: [Errno 2] No such file or directory: 'dat/freqs.npy'"
     ]
    }
   ],
   "source": [
    "# Load example data to use for this tutorial (a single example power spectrum)\n",
    "freqs = np.load('dat/freqs.npy')\n",
    "spectrum = np.load('dat/spectrum.npy')"
   ]
  },
  {
   "cell_type": "markdown",
   "metadata": {},
   "source": [
    "FOOOF Object\n",
    "------------\n",
    "\n",
    "Fooof is an object oriented module.\n",
    "\n",
    "At the core of the module is the FOOOF object, which holds relevant data and settings as attributes, and procedures to run the FOOOF algorithm as methods.\n",
    "\n",
    "The organization is similar to sklearn:\n",
    "    - A model object is initialized, with relevant settings\n",
    "    - The model is used to fit the data\n",
    "    - Results can be extracted from the object\n",
    "\n"
   ]
  },
  {
   "cell_type": "markdown",
   "metadata": {},
   "source": [
    "Check the docs for the FOOOF object\n",
    "\n"
   ]
  },
  {
   "cell_type": "code",
   "execution_count": null,
   "metadata": {},
   "outputs": [],
   "source": [
    "get_ipython().magic('pinfo FOOOF')"
   ]
  },
  {
   "cell_type": "markdown",
   "metadata": {},
   "source": [
    "FOOOF Example\n",
    "-------------\n",
    "\n"
   ]
  },
  {
   "cell_type": "code",
   "execution_count": null,
   "metadata": {},
   "outputs": [],
   "source": [
    "# Initialize FOOOF model\n",
    "fm = FOOOF()\n",
    "\n",
    "# Set the frequency range upon which to fit FOOOF\n",
    "freq_range = [2, 40]\n",
    "\n",
    "# Run FOOOF model - calculates model, plots, and prints results\n",
    "fm.report(freqs, spectrum, freq_range)"
   ]
  },
  {
   "cell_type": "markdown",
   "metadata": {},
   "source": [
    "FOOOF Report\n",
    "~~~~~~~~~~~~\n",
    "\n",
    "The above method 'report', is a convenience method that calls a series of FOOOF methods:\n",
    "    - 'fit':  fits the FOOOF model\n",
    "    - 'print_results': prints out the results, in string form\n",
    "    - 'plot': plots to data and model fit\n",
    "\n",
    "Each of these methods ('fit', 'print_results' and 'plot') can each be called individually.\n",
    "\n"
   ]
  },
  {
   "cell_type": "code",
   "execution_count": null,
   "metadata": {},
   "outputs": [],
   "source": [
    "# Alternatively, just fit the model with FOOOF.fit() (without any printing)\n",
    "fm.fit(freqs, spectrum, freq_range)\n",
    "\n",
    "# After fitting, plotting and parameter fitting can be called independently:\n",
    "# fm.print_results()\n",
    "# fm.plot()"
   ]
  },
  {
   "cell_type": "markdown",
   "metadata": {},
   "source": [
    "FOOOF Results\n",
    "~~~~~~~~~~~~~\n",
    "\n",
    "When the FOOOF model is calculated, the model fit parameters are stored as object attributes that can be accessed after fitting.\n",
    "\n",
    "Following the sklearn convention, attributes that are fit as a result of the model have a trailing underscore:\n",
    "- background\\_params_\n",
    "- peak\\_params_\n",
    "- error_\n",
    "- r2_\n",
    "\n"
   ]
  },
  {
   "cell_type": "markdown",
   "metadata": {},
   "source": [
    "Access model fit parameters from FOOOF object, after fitting\n",
    "\n"
   ]
  },
  {
   "cell_type": "code",
   "execution_count": null,
   "metadata": {},
   "outputs": [],
   "source": [
    "# Aperiodic 'background' parameters\n",
    "print('Aperiodic signal (background) parameters: \\n', fm.background_params_, '\\n')\n",
    "\n",
    "# Peak parameters\n",
    "print('Peak parameters: \\n', fm.peak_params_, '\\n')\n",
    "\n",
    "# Goodness of fit measures\n",
    "print('Goodness of fit:')\n",
    "print(' Error - ', fm.error_)\n",
    "print(' R^2   - ', fm.r_squared_)"
   ]
  },
  {
   "cell_type": "markdown",
   "metadata": {},
   "source": [
    "Notes on Interpreting Peak Parameters\n",
    "-------------------------------------\n",
    "\n",
    "Note that the peak parameters that are returned are not exactly the same as the parameters of the Gaussians used internally to fit the peaks.\n",
    "\n",
    "Specifically:\n",
    "- CF is the mean parameter of the Gaussian (same as the Gaussian)\n",
    "- Amp is the amplitude of the model fit above the aperiodic signal fit [1], which is not necessarily the same as the Gaussian amplitude\n",
    "- BW is 2 * the standard deviation of the Gaussian [2]\n",
    "\n",
    "[1] Since the Gaussians are fit together, if any Gaussians overlap, than the actual height of the fit at a given point can only be assessed when considering all Gaussians. To be better able to interpret amplitudes for single peak fits, we re-define the peak amplitude as above.\n",
    "\n",
    "[2] Standard deviation is '1 sided', returned BW is '2 sided'.\n",
    "\n"
   ]
  },
  {
   "cell_type": "markdown",
   "metadata": {},
   "source": [
    "The underlying gaussian parameters are also availabe from the FOOOF object\n",
    "fm._gaussian_params\n",
    "\n"
   ]
  },
  {
   "cell_type": "markdown",
   "metadata": {},
   "source": [
    "Compare the 'peak_params_', as compared to the underlying gaussian parameters\n",
    "\n"
   ]
  },
  {
   "cell_type": "code",
   "execution_count": null,
   "metadata": {},
   "outputs": [],
   "source": [
    "print('  Peak Parameters \\t Gaussian Parameters')\n",
    "for peak, gau in zip(fm.peak_params_, fm._gaussian_params):\n",
    "    print('{:5.2f} {:5.2f} {:5.2f} \\t {:5.2f} {:5.2f} {:5.2f}'.format(*peak, *gau))"
   ]
  },
  {
   "cell_type": "markdown",
   "metadata": {},
   "source": [
    "FOOOFResults object\n",
    "~~~~~~~~~~~~~~~~~~~\n",
    "\n",
    "FOOOF also has a convenience method to return all model fit results: get_results().\n",
    "\n",
    "It returns all the model fit parameters, including the underlying Gaussian parameters.\n",
    "\n",
    "Get parameters actually collects and returns these results as a FOOOFResults object (a named tuple), to keep data organized, and allow for easier collecting.\n",
    "\n"
   ]
  },
  {
   "cell_type": "code",
   "execution_count": null,
   "metadata": {},
   "outputs": [],
   "source": [
    "# Grab each model fit result with convenience method to gather all results\n",
    "bg_params, peak_params, r_squared, fit_error, gauss_params = fm.get_results()\n",
    "\n",
    "# Get results actually returns a FOOOFResult object (a named tuple)\n",
    "fres = fm.get_results()"
   ]
  },
  {
   "cell_type": "code",
   "execution_count": null,
   "metadata": {},
   "outputs": [],
   "source": [
    "# Print out the FOOOFResults\n",
    "print(fres, '\\n')\n",
    "\n",
    "# From FOOOFResults, you can access the different results\n",
    "print('Aperiodic Signal (Background) Parameters: \\n', fres.background_params)\n",
    "\n",
    "\n",
    "# Check the r^2 and error of the model fit\n",
    "print('R-squared: \\n {:5.4f}'.format(fm.r_squared_))\n",
    "print('Fit error: \\n {:5.4f}'.format(fm.error_))"
   ]
  },
  {
   "cell_type": "markdown",
   "metadata": {},
   "source": [
    "Description of FOOOF methods and parameters\n",
    "-------------------------------------------\n",
    "\n",
    "FOOOF follows the following Python conventions:\n",
    "    - all user exposed settings, data, and methods are directly accessible through the object\n",
    "    - 'hidden' (internal) settings and methods ones have a leading underscore\n",
    "\n",
    "The FOOOF object contents consist of 4 main components (groups of data / code):\n",
    "- Settings (attributes)\n",
    "    - User exposed settings are all set in object initialization.\n",
    "        - peak_width_limits, max_n_peaks, min_peak_amplitude, peak_threshold, background_mode, verbose\n",
    "    - There are some internal settings that are not exposed at initialization. These settings are unlikely to need to be accessed by the user, but can be if desired - they are  all defined and documented in \\__init\\__ (there should be no other settings, or 'magic numbers' in any other parts of the code).\n",
    "- Data (attributes)\n",
    "    - FOOOF stores the frequency vector, power spectrum, frequency range, and frequency resolution.\n",
    "        - fm.freqs, fm.power_spectrum, fm.freq_range, fm.freq_res\n",
    "    - During the fit procedure, interim (hidden) data variables are also created and used\n",
    "- Results (attributes)\n",
    "    - FOOOF follows the scipy convention in that any attributes that result from fitting to the data are indicated by a trailing underscore\n",
    "        - fm.background\\_params_, fm.peak\\_params\\_, fm.fooofed\\_spectrum\\_, fm.r\\_squared\\_, fm.error\\_\n",
    "- Functions (methods)\n",
    "    - Functions that operate on the FOOOF object data.\n",
    "    - In addition to the exposed methods, there are some internal methods called in the fitting procedure. These methods should not be called independently, as they may depend on internal state as defined from other methods.\n",
    "\n"
   ]
  },
  {
   "cell_type": "markdown",
   "metadata": {},
   "source": [
    "You can check all the user defined FOOOF settings with check_settings\n",
    " The description parameter here is set to print out descriptions of the settings\n",
    "\n"
   ]
  },
  {
   "cell_type": "code",
   "execution_count": null,
   "metadata": {},
   "outputs": [],
   "source": [
    "fm.print_settings(description=True)"
   ]
  },
  {
   "cell_type": "markdown",
   "metadata": {},
   "source": [
    "Fitting FOOOF, with Different Settings\n",
    "--------------------------------------\n",
    "\n"
   ]
  },
  {
   "cell_type": "code",
   "execution_count": null,
   "metadata": {},
   "outputs": [],
   "source": [
    "# Load example data - a different power spectrum\n",
    "freqs = np.load('dat/freqs_2.npy')\n",
    "spectrum = np.load('dat/spectrum_2.npy')"
   ]
  },
  {
   "cell_type": "code",
   "execution_count": null,
   "metadata": {},
   "outputs": [],
   "source": [
    "# Initialize FOOOF model, with different settings\n",
    "fm = FOOOF(peak_width_limits=[1, 8], max_n_peaks=6, min_peak_amplitude=0.15)\n",
    "\n",
    "# Fit FOOOF\n",
    "f_range = [2, 40]\n",
    "fm.report(freqs, spectrum, f_range)"
   ]
  },
  {
   "cell_type": "markdown",
   "metadata": {},
   "source": [
    "Updating Settings\n",
    "-----------------\n",
    "\n",
    "If you wish to change these settings, then you should re-initialize the FOOOF object with new settings.\n",
    "\n",
    "Simply resetting the relevant attribute may not appropriately propragate the value, and may fail (either by erroring out, or not applying the settings properly during fit and returning erroneous results).\n",
    "\n"
   ]
  },
  {
   "cell_type": "code",
   "execution_count": null,
   "metadata": {},
   "outputs": [],
   "source": [
    "# ### Fitting FOOOF, with Background 'Knee'\n",
    "\n",
    "# Load example data (LFP)\n",
    "freqs = np.load('dat/freqs_lfp.npy')\n",
    "spectrum = np.load('dat/spectrum_lfp.npy')\n",
    "\n",
    "\n",
    "# Initialize FOOOF - setting to aperiodic / background mode to use a knee fit\n",
    "fm = FOOOF(peak_width_limits=[2, 8], background_mode='knee')\n",
    "\n",
    "# Fit FOOOF model\n",
    "#  Note that this time we're specifying an optional parameter to plot in log-log\n",
    "fm.report(freqs, spectrum, [2, 60], plt_log=True)"
   ]
  },
  {
   "cell_type": "markdown",
   "metadata": {},
   "source": [
    "A note on interpreting the \"knee\" parameter\n",
    "-------------------------------------------\n",
    "\n",
    "The aperiodic fit has the form:\n",
    "$$BG = 10^b * \\ \\frac{1}{(k + F^\\chi)}$$\n",
    "\n",
    "The knee parameter reported above corresponds to $k$ in the equation.\n",
    "\n",
    "This parameter is dependent on the frequency at which the aperiodic fit transitions from horizontal to negatively sloped.\n",
    "\n",
    "To interpret this parameter as a frequency, take the $\\ \\chi$-th root of k, i.e.:\n",
    "\n",
    "$$knee \\ frequency = k^{1/\\ \\chi}$$\n",
    "\n"
   ]
  },
  {
   "cell_type": "markdown",
   "metadata": {},
   "source": [
    "FOOOF - Saving & Reports\n",
    "------------------------\n",
    "\n",
    "FOOOF also has report for saving out, and loading back in, data.\n",
    "\n",
    "You have the option to specify which data to save.\n",
    "- results: model fit results (same as is returned in FOOOFResult)\n",
    "- settings: all public settings (everything available at initialization)\n",
    "- data: freqs & power spectrum\n",
    "\n",
    "FOOOF save creates JSON files. You can specify a file name to save or append to, or pass in a valid JSON file object.\n",
    "\n"
   ]
  },
  {
   "cell_type": "code",
   "execution_count": null,
   "metadata": {},
   "outputs": [],
   "source": [
    "# Saving FOOOF results, settings, and data\n",
    "fm.save(save_results=True, save_settings=True, save_data=True)"
   ]
  },
  {
   "cell_type": "code",
   "execution_count": null,
   "metadata": {},
   "outputs": [],
   "source": [
    "# Loading FOOOF results\n",
    "nfm = FOOOF()\n",
    "nfm.load()\n",
    "\n",
    "# Plot loaded results\n",
    "nfm.plot()"
   ]
  },
  {
   "cell_type": "markdown",
   "metadata": {},
   "source": [
    "Create a Report\n",
    "---------------\n",
    "\n",
    "FOOOF also has functionality to save out a 'report' of a particular model fit.\n",
    "\n",
    "This generates and saves a PDF which contains the same output as 'print_results', 'plot', and 'print_settings'.\n",
    "\n"
   ]
  },
  {
   "cell_type": "code",
   "execution_count": null,
   "metadata": {},
   "outputs": [],
   "source": [
    "# Save out a report of the current FOOOF model fit & results\n",
    "#  By default (with no inputs) this saves a PDF to current directory, with the name 'FOOOF_Report'\n",
    "#    Add inputs to the method call to specify a file-name, and save-location\n",
    "fm.save_report()\n",
    "\n",
    "# Check what the generated report looks like\n",
    "from IPython.display import IFrame\n",
    "IFrame(\"FOOOF_Report.pdf\", width=950, height=1200)"
   ]
  },
  {
   "cell_type": "markdown",
   "metadata": {},
   "source": [
    "To continue the tutorial with a more detailed guide through the algorithm, in code, go [here](03-FOOOFAlgorithm.ipynb).\n",
    "\n"
   ]
  }
 ],
 "metadata": {
  "kernelspec": {
   "display_name": "Python 3",
   "language": "python",
   "name": "python3"
  },
  "language_info": {
   "codemirror_mode": {
    "name": "ipython",
    "version": 3
   },
   "file_extension": ".py",
   "mimetype": "text/x-python",
   "name": "python",
   "nbconvert_exporter": "python",
   "pygments_lexer": "ipython3",
   "version": "3.6.7"
  }
 },
 "nbformat": 4,
 "nbformat_minor": 1
}
