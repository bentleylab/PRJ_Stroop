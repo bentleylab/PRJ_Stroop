{
  "cells": [
    {
      "cell_type": "code",
      "execution_count": null,
      "metadata": {
        "collapsed": false
      },
      "outputs": [],
      "source": [
        "%matplotlib inline"
      ]
    },
    {
      "cell_type": "markdown",
      "metadata": {},
      "source": [
        "\nTutorial 01 - Model Description\n===============================\n\n"
      ]
    },
    {
      "cell_type": "markdown",
      "metadata": {},
      "source": [
        "This notebook provides a more theoretical / mathematical description of the FOOOF model and parameters.\n\n"
      ]
    },
    {
      "cell_type": "markdown",
      "metadata": {},
      "source": [
        "Introduction\n------------\n\nA neural power spectrum is fit as a combination of the aperiodic signal and periodic oscillations.\n\nThe aperiodic component of the signal displays 1/f like properties, and is referred to in the code as the 'background'.\n\nPutative oscillations (hereafter referred to as 'peaks'), are frequency regions in which there are 'bumps' of power over and above the aperiodic signal.\n\nThis formulation roughly translates to fitting the power spectrum as:\n\n$$P = L + \\sum_{n=0}^{N} G_n$$\n\nWhere $P$ is the power spectrum, $L$ is the aperiodic signal, and each $G_n$ is a Gaussian fit to a peak, for $N$ total peaks extracted from the power spectrum.\n\n"
      ]
    },
    {
      "cell_type": "markdown",
      "metadata": {},
      "source": [
        "Aperiodic ('background') Fit\n----------------------------\n\nThe aperiodic fit uses an exponential function, fit on the semilog power spectrum (linear frequencies and $log10$ power values).\n\nThe exponential is of the form:\n\n$$L = 10^b * \\frac{1}{(k + F^\\chi)}$$\n\nOr, equivalently:\n\n$$L = b - \\log(k + F^\\chi)$$\n\nIn this formulation, the 3 parameters $b$, $k$, and $\\chi$ define the aperiodic signal, as:\n- $b$ is the broadband 'offset'\n- $k$ relates to the 'knee'\n- $\\chi$ is the 'slope'\n- $F$ is the vector of input frequencies\n\nNote that fitting the knee parameter is optional. If used, the knee defines a bend in the 1/f.\n\nBy default the aperiodic signal is fit with the 'knee' parameter set to zero. This fits the aperiodic signal equivalently to fitting a linear fit in log-log space.\n\nBroader frequency ranges typically do not display a single 1/f like characteristic, and so for these cases fitting with the knee parameter allows for modelling bends in the aperiodic signal.\n\n"
      ]
    },
    {
      "cell_type": "markdown",
      "metadata": {},
      "source": [
        "Peaks\n-----\n\nRegions of power over above this aperiodic signal, as defined above, are considered to be putative oscillations and are fit in the model by a Gaussian.\n\nFor each Gaussian, $G_n$, with the form:\n\n$$G_n = a * exp (\\frac{- (F - c)^2}{2 * w^2})$$\n\nEach peak is defined in terms of parameters $a$, $c$ and $w$, where:\n- $a$ is the amplitude of the peak, over and above the aperiodic signal\n- $c$ is the center frequency of the peak\n- $w$ is the width of the peak\n- $F$ is the vector of input frequencies\n\nThe full power spectrum fit is therefore the combination of the aperiodic fit, $L$ defined by the exponential fit, and $N$ peaks, where each $G_n$ is formalized as a Gaussian process.\n\nFull method details are available in the paper: https://www.biorxiv.org/content/early/2018/04/11/299859\n\n"
      ]
    },
    {
      "cell_type": "markdown",
      "metadata": {},
      "source": [
        "Algorithmic Description\n-----------------------\n\nBriefly, the algorithm proceeds as such:\n- An initial fit of the aperiodic 'background' signal is taken across the power spectrum\n- This aperiodic fit is subtracted from the power spectrum, creating a flattened spectrum\n- Peaks are iteratively found in this flattened spectrum\n- A full peak fit is created of all peak candidates found\n- The peak fit is subtracted from the original power spectrum, creating a peak-removed power spectrum\n- A final fit of the aperiodic signal is taken of the peak-removed power spectrum\n\n"
      ]
    },
    {
      "cell_type": "markdown",
      "metadata": {},
      "source": [
        "This procedure is able to create a model of the neural power spectrum, that is fully described mathematical by the mathematical model from above:\n\n![\"fooof_model_picture\"](img/FOOOF_model_pic.png)\n\n"
      ]
    },
    {
      "cell_type": "code",
      "execution_count": null,
      "metadata": {
        "collapsed": false
      },
      "outputs": [],
      "source": [
        "# <div class=\"alert alert-info\">\n# To step through the algorithm in more detail, with visualizations that step through the code, go [here](03-FOOOFAlgorithm.ipynb).\n# </div>"
      ]
    },
    {
      "cell_type": "markdown",
      "metadata": {},
      "source": [
        "FOOOF Parameters\n----------------\n\nThere are a number of parameters that control the FOOOF fitting algorithm.\n\nParameters that are exposed in the API and that can be set by the user are explained in detail below.\n\n\nControlling Peak Fits\n~~~~~~~~~~~~~~~~~~~~~\n\n**peak_width_limits (Hz)**\n\nEnforced limits on the minimum and maximum widths of extracted peaks, given as a list of [minimum bandwidth, maximum bandwidth]. We recommend bandwidths be set to be at last twice the frequency resolution of the power spectrum.\n\nDefault: [0.5, 12]\n\nPeak Search Stopping Criteria\n~~~~~~~~~~~~~~~~~~~~~~~~~~~~~\n\nAn iterative procedures searches for candidate peaks in the flattened spectrum. Candidate peaks are extracted in order of decreasing amplitude, until some stopping criterion is met, which is controlled by the following parameters:\n\n**max_n_peaks (int)**\n\nThe maximum number of peaks that can be extracted from a given power spectrum. FOOOF will halt searching for new peaks when this number is reached. Note that FOOOF extracts peaks iteratively by amplitude (over and above the aperiodic signal), and so this approach will extract (up to) the _n_ largest peaks.\n\nDefault: infinite\n\n**peak_threshold (in units of standard deviation)**\n\nThe threshold, in terms of standard deviation of the aperiodic signal-removed power spectrum, above which a data point must pass to be considered a candidate peak. Once a candidate peak drops below this threshold, the peak search is halted (without including the most recent candidate).\n\nDefault: 2.0\n\n**min_peak_amplitude (units of power - same as the input spectrum)**\n\nThe minimum amplitude, above the aperiodic fit, that a peak must have to be extracted in the initial fit stage. Once a candidate peak drops below this threshold, the peak search is halted (without including the most recent candidate). Note that because this constraint is enforced during peak search, and prior to final peak fit, returned peaks are not guaranteed to surpass this value in amplitude.\n\nDefault: 0\n\nNote: there are two different amplitude-related halting conditions for the peak searching. By default, the relative (standard-deviation based) threshold is defined, whereas the absolute threshold is set to zero (this default is because there is no general way to set this value without knowing the scale of the data). If both are defined, both are used and the peak search will halt when a candidate peak fails to pass either the absolute, or relative threshold.\n\nAperiodic Signal Fitting Approach\n~~~~~~~~~~~~~~~~~~~~~~~~~~~~~~~~~\n\n**background_mode (string)**\n\nThe fitting approach to use for the aperiodic 'background' signal.\n\nOptions:\n    - 'fixed' : fits without a knee parameter (with the knee parameter 'fixed' at 0)\n    - 'knee' : fits the full exponential equation, including the 'knee' parameter. (experimental)\n\nDefault='fixed'\n\n"
      ]
    }
  ],
  "metadata": {
    "kernelspec": {
      "display_name": "Python 3",
      "language": "python",
      "name": "python3"
    },
    "language_info": {
      "codemirror_mode": {
        "name": "ipython",
        "version": 3
      },
      "file_extension": ".py",
      "mimetype": "text/x-python",
      "name": "python",
      "nbconvert_exporter": "python",
      "pygments_lexer": "ipython3",
      "version": "3.6.6"
    }
  },
  "nbformat": 4,
  "nbformat_minor": 0
}