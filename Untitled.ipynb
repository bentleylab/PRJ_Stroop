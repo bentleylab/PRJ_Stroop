{
 "cells": [
  {
   "cell_type": "code",
   "execution_count": 1,
   "metadata": {},
   "outputs": [
    {
     "name": "stdout",
     "output_type": "stream",
     "text": [
      "hi\n"
     ]
    }
   ],
   "source": []
  },
  {
   "cell_type": "code",
   "execution_count": null,
   "metadata": {
    "collapsed": true
   },
   "outputs": [],
   "source": [
    "SBJ        = 'IR39'\n",
    "cond_name  = 'CI'\n",
    "analyses   = {'ERP','theta','HG'}\n",
    "\n",
    "epoch_lim = [-200 2000];           % ID of data used for trial rejection (these epochs are NOT used)\n",
    "buff_lim  = [1000, 1000];            % buffers are for cutting time series and then plotting\n",
    "sig_lim   = [1000, 1000];\n",
    "\n",
    "% Analysis parameters\n",
    "HG_type      = 'wideband';                     % only for HG: 'wideband', 'multiband'\n",
    "event        = 'resp';                          % 'stim'/'resp': event to lock trials\n",
    "bsln_type    = {'demean','zscore','zscore'};    % 'zscore', 'demean', 'none'\n",
    "bsln_event   = 's';                    % 's'/'r': event to lock baselining\n",
    "bsln_lim     = [250, -50];             % ms before and after event\n",
    "smooth_it    = 1;                      % smooth the result before averaging (0/1)\n",
    "smooth_freq  = 10;\n",
    "trial_type   = 'datapad';               % 'nanpad', 'datapad'\n",
    "sig_win_len  = 50;                      % Length of significance testing window in ms\n",
    "sig_win_step = 25;                      % Step size to slide teh sig window forward\n",
    "sig_clust_len= 100;                     % length in ms over which consecutive windows must be significant\n",
    "sig_nboots   = 1000;                    % number of iterations for permutation testing\n",
    "\n",
    "clim_perc     = [5 95];              % colormap percentile limits\n",
    "fig_type      = 'png';\n",
    "\n",
    "data_id = strcat(SBJ,'_ft_preproc');\n",
    "SBJ_dir = strcat('/home/knight/hoycw/PRJ_Stroop/data/',SBJ,'/');\n",
    "\n",
    "%% Load data\n",
    "% Significance times\n",
    "sig_times_file = [SBJ_dir '04_proc/' data_id '_' all_analysis_id...\n",
    "    '_' event '_' cond_name '_Bob.ep' epoch_id '_' trl_id '_bsln' bsln_id smooth_id '_sig_times.mat'];\n"
   ]
  }
 ],
 "metadata": {
  "kernelspec": {
   "display_name": "Python [default]",
   "language": "python",
   "name": "python2"
  },
  "language_info": {
   "codemirror_mode": {
    "name": "ipython",
    "version": 2
   },
   "file_extension": ".py",
   "mimetype": "text/x-python",
   "name": "python",
   "nbconvert_exporter": "python",
   "pygments_lexer": "ipython2",
   "version": "2.7.13"
  }
 },
 "nbformat": 4,
 "nbformat_minor": 2
}
