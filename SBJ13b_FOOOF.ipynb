{
 "cells": [
  {
   "cell_type": "markdown",
   "metadata": {},
   "source": [
    "# this is the beginnig"
   ]
  },
  {
   "cell_type": "markdown",
   "metadata": {},
   "source": [
    "### Set Variables"
   ]
  },
  {
   "cell_type": "code",
   "execution_count": 1,
   "metadata": {},
   "outputs": [],
   "source": [
    "SBJ = 'IR35'\n",
    "an_id = 'fooof_main_ft_Dx_gROI_wn4k_f1to30'"
   ]
  },
  {
   "cell_type": "markdown",
   "metadata": {},
   "source": [
    "## Import and Set Up"
   ]
  },
  {
   "cell_type": "code",
   "execution_count": 2,
   "metadata": {},
   "outputs": [],
   "source": [
    "%matplotlib inline\n",
    "import numpy as np\n",
    "import matplotlib.pyplot as plt\n",
    "#import mne\n",
    "#import h5py\n",
    "from scipy.io import loadmat, savemat\n",
    "\n",
    "# Temporary path BS to add FOOOF module to path\n",
    "import os\n",
    "import sys\n",
    "#from subprocess import call\n",
    "#sys.path.append('/home/knight/hoycw/Apps/fooof/')\n",
    "\n",
    "from fooof import FOOOFGroup, FOOOF\n",
    "#import pandas as pd\n",
    "#import seaborn as sns\n"
   ]
  },
  {
   "cell_type": "code",
   "execution_count": 8,
   "metadata": {},
   "outputs": [],
   "source": [
    "if os.path.isdir('/Volumes/hoycw_clust/'):\n",
    "    root_dir = '/Volumes/hoycw_clust/'\n",
    "elif os.path.isdir('/home/knight/hoycw/'):\n",
    "    root_dir = '/home/knight/hoycw/'\n",
    "\n",
    "SBJ_data_dir = root_dir+'PRJ_Stroop/data/' + SBJ + '/02_preproc/'\n",
    "psd_fname = SBJ_data_dir + SBJ + '_' + an_id + '_PSDs.mat'"
   ]
  },
  {
   "cell_type": "markdown",
   "metadata": {},
   "source": [
    "## Load Data"
   ]
  },
  {
   "cell_type": "code",
   "execution_count": 9,
   "metadata": {},
   "outputs": [],
   "source": [
    "# Load Data\n",
    "all_data = loadmat(psd_fname)\n",
    "# Numeric\n",
    "freqs = np.squeeze(all_data['freqs']).astype('float')\n",
    "psds  = np.squeeze(all_data['psds']).astype('float')\n",
    "foi   = np.squeeze(all_data['foi']).astype('int')\n",
    "pk_bw_lim = np.squeeze(all_data['pk_bw_lim']).astype(float)\n",
    "mn_pk_amp = np.squeeze(all_data['mn_pk_amp']).astype(float)\n",
    "max_n_pks = np.squeeze(all_data['max_n_pks']).astype(int)\n",
    "# String\n",
    "atlas_id = all_data['atlas_id'][0]\n",
    "roi_id = all_data['roi_id'][0]\n",
    "# Cell of strings\n",
    "label_array = all_data['labels']\n",
    "labels = [str(''.join(letter)) for letter_array in label_array for letter in letter_array]\n",
    "roi_array = all_data['rois']\n",
    "rois = [str(''.join(letter)) for letter_array in roi_array for letter in letter_array]"
   ]
  },
  {
   "cell_type": "code",
   "execution_count": 10,
   "metadata": {
    "collapsed": true
   },
   "outputs": [
    {
     "data": {
      "text/plain": [
       "{'__header__': b'MATLAB 5.0 MAT-file, Platform: MACI64, Created on: Mon Nov 12 15:45:43 2018',\n",
       " '__version__': '1.0',\n",
       " '__globals__': [],\n",
       " 'atlas_id': array(['Dx'], dtype='<U2'),\n",
       " 'roi_id': array(['gROI'], dtype='<U4'),\n",
       " 'freqs': array([[0.00000000e+00],\n",
       "        [2.44140625e-01],\n",
       "        [4.88281250e-01],\n",
       "        ...,\n",
       "        [4.99511719e+02],\n",
       "        [4.99755859e+02],\n",
       "        [5.00000000e+02]]),\n",
       " 'psds': array([[5.96861188e-02, 1.25732690e+01, 1.74847512e+02, ...,\n",
       "         4.98923446e-06, 4.98922562e-06, 2.49461134e-06],\n",
       "        [2.85784458e-02, 3.86061004e+00, 5.79599545e+01, ...,\n",
       "         3.41294499e-06, 3.41293897e-06, 1.70646848e-06],\n",
       "        [4.40743083e-02, 6.83486364e+00, 1.02734486e+02, ...,\n",
       "         6.00656370e-06, 6.00655308e-06, 3.00327477e-06],\n",
       "        ...,\n",
       "        [2.89540439e-02, 4.78970012e+00, 6.84059430e+01, ...,\n",
       "         4.33804385e-06, 4.33803606e-06, 2.16901673e-06],\n",
       "        [1.32900276e-02, 2.74814105e+00, 3.80094694e+01, ...,\n",
       "         2.59136813e-06, 2.59136351e-06, 1.29568098e-06],\n",
       "        [3.15427894e-02, 5.03592464e+00, 8.03133746e+01, ...,\n",
       "         6.63193948e-06, 6.63192771e-06, 3.31596189e-06]]),\n",
       " 'labels': array([[array(['RAM1-2'], dtype='<U6')],\n",
       "        [array(['RAM5-6'], dtype='<U6')],\n",
       "        [array(['RAM7-8'], dtype='<U6')],\n",
       "        [array(['RHH5-6'], dtype='<U6')],\n",
       "        [array(['RTH1-2'], dtype='<U6')],\n",
       "        [array(['RTH4-5'], dtype='<U6')],\n",
       "        [array(['RTH5-6'], dtype='<U6')],\n",
       "        [array(['RTH6-7'], dtype='<U6')],\n",
       "        [array(['RIN1-2'], dtype='<U6')],\n",
       "        [array(['RIN2-3'], dtype='<U6')],\n",
       "        [array(['RIN5-6'], dtype='<U6')],\n",
       "        [array(['RIN6-7'], dtype='<U6')],\n",
       "        [array(['RIN8-9'], dtype='<U6')],\n",
       "        [array(['ROF1-2'], dtype='<U6')],\n",
       "        [array(['ROF2-3'], dtype='<U6')],\n",
       "        [array(['ROF5-6'], dtype='<U6')],\n",
       "        [array(['ROF6-7'], dtype='<U6')],\n",
       "        [array(['LAM3-4'], dtype='<U6')],\n",
       "        [array(['LAM6-7'], dtype='<U6')],\n",
       "        [array(['LHH6-7'], dtype='<U6')],\n",
       "        [array(['LHH7-8'], dtype='<U6')],\n",
       "        [array(['LTH6-7'], dtype='<U6')],\n",
       "        [array(['LTH7-8'], dtype='<U6')],\n",
       "        [array(['LTH8-9'], dtype='<U6')],\n",
       "        [array(['LAC1-2'], dtype='<U6')],\n",
       "        [array(['LAC2-3'], dtype='<U6')],\n",
       "        [array(['LAC5-6'], dtype='<U6')],\n",
       "        [array(['LAC7-8'], dtype='<U6')],\n",
       "        [array(['LAC8-9'], dtype='<U6')],\n",
       "        [array(['LOF2-3'], dtype='<U6')],\n",
       "        [array(['LOF6-7'], dtype='<U6')],\n",
       "        [array(['LIN1-2'], dtype='<U6')],\n",
       "        [array(['LIN2-3'], dtype='<U6')],\n",
       "        [array(['LIN3-4'], dtype='<U6')],\n",
       "        [array(['LIN5-6'], dtype='<U6')],\n",
       "        [array(['LIN7-8'], dtype='<U6')],\n",
       "        [array(['LIN8-9'], dtype='<U6')]], dtype=object),\n",
       " 'rois': array([[array(['TMP'], dtype='<U3')],\n",
       "        [array(['TMP'], dtype='<U3')],\n",
       "        [array(['TMP'], dtype='<U3')],\n",
       "        [array(['TMP'], dtype='<U3')],\n",
       "        [array(['TMP'], dtype='<U3')],\n",
       "        [array(['TMP'], dtype='<U3')],\n",
       "        [array(['TMP'], dtype='<U3')],\n",
       "        [array(['TMP'], dtype='<U3')],\n",
       "        [array(['INS'], dtype='<U3')],\n",
       "        [array(['INS'], dtype='<U3')],\n",
       "        [array(['LPFC'], dtype='<U4')],\n",
       "        [array(['LPFC'], dtype='<U4')],\n",
       "        [array(['LPFC'], dtype='<U4')],\n",
       "        [array(['OFC'], dtype='<U3')],\n",
       "        [array(['OFC'], dtype='<U3')],\n",
       "        [array(['LPFC'], dtype='<U4')],\n",
       "        [array(['LPFC'], dtype='<U4')],\n",
       "        [array(['TMP'], dtype='<U3')],\n",
       "        [array(['TMP'], dtype='<U3')],\n",
       "        [array(['TMP'], dtype='<U3')],\n",
       "        [array(['TMP'], dtype='<U3')],\n",
       "        [array(['TMP'], dtype='<U3')],\n",
       "        [array(['TMP'], dtype='<U3')],\n",
       "        [array(['TMP'], dtype='<U3')],\n",
       "        [array(['MPFC'], dtype='<U4')],\n",
       "        [array(['MPFC'], dtype='<U4')],\n",
       "        [array(['LPFC'], dtype='<U4')],\n",
       "        [array(['LPFC'], dtype='<U4')],\n",
       "        [array(['LPFC'], dtype='<U4')],\n",
       "        [array(['OFC'], dtype='<U3')],\n",
       "        [array(['LPFC'], dtype='<U4')],\n",
       "        [array(['INS'], dtype='<U3')],\n",
       "        [array(['INS'], dtype='<U3')],\n",
       "        [array(['INS'], dtype='<U3')],\n",
       "        [array(['LPFC'], dtype='<U4')],\n",
       "        [array(['LPFC'], dtype='<U4')],\n",
       "        [array(['LPFC'], dtype='<U4')]], dtype=object),\n",
       " 'foi': array([[ 1, 30]], dtype=uint8),\n",
       " 'pk_bw_lim': array([[ 1, 12]], dtype=uint8),\n",
       " 'mn_pk_amp': array([[0.3]]),\n",
       " 'max_n_pks': array([[3]], dtype=uint8)}"
      ]
     },
     "execution_count": 10,
     "metadata": {},
     "output_type": "execute_result"
    }
   ],
   "source": [
    "all_data"
   ]
  },
  {
   "cell_type": "code",
   "execution_count": 14,
   "metadata": {},
   "outputs": [
    {
     "data": {
      "text/plain": [
       "array(0.3)"
      ]
     },
     "execution_count": 14,
     "metadata": {},
     "output_type": "execute_result"
    }
   ],
   "source": [
    "mn_pk_amp"
   ]
  },
  {
   "cell_type": "markdown",
   "metadata": {},
   "source": [
    "## Run FOOOF"
   ]
  },
  {
   "cell_type": "code",
   "execution_count": 11,
   "metadata": {},
   "outputs": [],
   "source": [
    "FOOOFGroup?"
   ]
  },
  {
   "cell_type": "code",
   "execution_count": 15,
   "metadata": {
    "scrolled": false
   },
   "outputs": [
    {
     "name": "stdout",
     "output_type": "stream",
     "text": [
      "==================================================================================================\n",
      "                                                                                                  \n",
      "                                       FOOOF - GROUP RESULTS                                      \n",
      "                                                                                                  \n",
      "                             Number of power spectra in the Group: 37                             \n",
      "                                                                                                  \n",
      "                        The model was run on the frequency range 1 - 50 Hz                        \n",
      "                                 Frequency Resolution is 0.24 Hz                                  \n",
      "                                                                                                  \n",
      "                               Power spectra were fit with a knee.                                \n",
      "                                                                                                  \n",
      "                                      Background Knee Values                                      \n",
      "                          Min:   5.76, Max: 20745664.39, Mean: 839686.17                          \n",
      "                                     Background Slope Values                                      \n",
      "                              Min: 2.0371, Max: 5.6024, Mean: 3.3814                              \n",
      "                                                                                                  \n",
      "                        In total [9 9] peaks were extracted from the group                        \n",
      "                                                                                                  \n",
      "                                     Goodness of fit metrics:                                     \n",
      "                            R2s -  Min: 0.9634, Max: 0.9989, Mean: 0.9872                         \n",
      "                         Errors -  Min: 0.0209, Max: 0.1028, Mean: 0.0570                         \n",
      "                                                                                                  \n",
      "==================================================================================================\n"
     ]
    },
    {
     "data": {
      "image/png": "[encoded data removed]",
      "text/plain": [
       "<Figure size 1008x720 with 5 Axes>"
      ]
     },
     "metadata": {
      "needs_background": "light"
     },
     "output_type": "display_data"
    }
   ],
   "source": [
    "fg = FOOOFGroup(peak_width_limits=(pk_bw_lim[0], pk_bw_lim[1]),\\\n",
    "                max_n_peaks=max_n_pks, min_peak_amplitude=mn_pk_amp, background_mode='knee')\n",
    "fg.report(freqs, psds, [1, 50])\n",
    "# roi_fg = {}\n",
    "# for roi in np.unique(rois):\n",
    "#     roi_fg[roi] = FOOOFGroup()\n",
    "#     roi_idx = [i for i, r in enumerate(rois) if r == roi]\n",
    "#     roi_fg[roi].fit(freqs, psds[roi_idx], list(foi))"
   ]
  },
  {
   "cell_type": "markdown",
   "metadata": {},
   "source": [
    "## Plot Individual Electrodes"
   ]
  },
  {
   "cell_type": "code",
   "execution_count": 9,
   "metadata": {},
   "outputs": [
    {
     "data": {
      "text/plain": [
       "(array([1., 1., 0., 0., 1., 0., 0., 0., 0., 0., 0., 0., 0., 1., 0., 0., 0.,\n",
       "        0., 2., 0., 1., 0., 0., 0., 0., 0., 1., 0., 1.]),\n",
       " array([0.29293087, 0.29811048, 0.30329009, 0.3084697 , 0.31364931,\n",
       "        0.31882892, 0.32400853, 0.32918814, 0.33436775, 0.33954736,\n",
       "        0.34472697, 0.34990658, 0.35508619, 0.3602658 , 0.36544541,\n",
       "        0.37062502, 0.37580464, 0.38098425, 0.38616386, 0.39134347,\n",
       "        0.39652308, 0.40170269, 0.4068823 , 0.41206191, 0.41724152,\n",
       "        0.42242113, 0.42760074, 0.43278035, 0.43795996, 0.44313957]),\n",
       " <a list of 29 Patch objects>)"
      ]
     },
     "execution_count": 9,
     "metadata": {},
     "output_type": "execute_result"
    },
    {
     "data": {
      "image/png": "[encoded data removed]",
      "text/plain": [
       "<Figure size 432x288 with 1 Axes>"
      ]
     },
     "metadata": {
      "needs_background": "light"
     },
     "output_type": "display_data"
    }
   ],
   "source": [
    "amp = fg.get_all_data('peak_params','Amp')\n",
    "plt.hist(amp[:,0],bins=np.linspace(np.min(amp[:,0]),np.max(amp[:,0]),num=30))"
   ]
  },
  {
   "cell_type": "code",
   "execution_count": 7,
   "metadata": {},
   "outputs": [
    {
     "data": {
      "text/plain": [
       "(array([ 1.,  5.,  6.,  5.,  2.,  3.,  2.,  1.,  2., 34.]),\n",
       " array([ 2.47862407,  3.43076166,  4.38289926,  5.33503685,  6.28717444,\n",
       "         7.23931204,  8.19144963,  9.14358722, 10.09572481, 11.04786241,\n",
       "        12.        ]),\n",
       " <a list of 10 Patch objects>)"
      ]
     },
     "execution_count": 7,
     "metadata": {},
     "output_type": "execute_result"
    },
    {
     "data": {
      "image/png": "[encoded data removed]",
      "text/plain": [
       "<Figure size 432x288 with 1 Axes>"
      ]
     },
     "metadata": {
      "needs_background": "light"
     },
     "output_type": "display_data"
    }
   ],
   "source": [
    "bw = fg.get_all_data('peak_params','BW')\n",
    "plt.hist(bw[:,0])"
   ]
  },
  {
   "cell_type": "code",
   "execution_count": 11,
   "metadata": {
    "collapsed": true
   },
   "outputs": [],
   "source": [
    "fm.save_report?"
   ]
  },
  {
   "cell_type": "code",
   "execution_count": 12,
   "metadata": {
    "collapsed": true
   },
   "outputs": [],
   "source": [
    "SBJ_fooof_dir = SBJ_data_dir + an_id + '_results_knee_log/'\n",
    "if not os.path.exists(SBJ_fooof_dir):\n",
    "    os.makedirs(SBJ_fooof_dir)\n",
    "fg.save_report(file_name=SBJ+'_'+an_id+'_group_results', file_path=SBJ_fooof_dir)\n",
    "for e in range(len(labels)):\n",
    "    fm = fg.get_fooof(e, regenerate=True)\n",
    "    fm.save_report(file_name=labels[e], file_path=SBJ_fooof_dir, plt_log=True)"
   ]
  },
  {
   "cell_type": "code",
   "execution_count": 9,
   "metadata": {},
   "outputs": [
    {
     "name": "stdout",
     "output_type": "stream",
     "text": [
      "LPFC\n"
     ]
    },
    {
     "ename": "NameError",
     "evalue": "name 'roi_fg' is not defined",
     "output_type": "error",
     "traceback": [
      "\u001b[0;31m---------------------------------------------------------------------------\u001b[0m",
      "\u001b[0;31mNameError\u001b[0m                                 Traceback (most recent call last)",
      "\u001b[0;32m<ipython-input-9-6b5b81679978>\u001b[0m in \u001b[0;36m<module>\u001b[0;34m\u001b[0m\n\u001b[1;32m      1\u001b[0m \u001b[0mprint\u001b[0m\u001b[0;34m(\u001b[0m\u001b[0;34m'LPFC'\u001b[0m\u001b[0;34m)\u001b[0m\u001b[0;34m\u001b[0m\u001b[0;34m\u001b[0m\u001b[0m\n\u001b[0;32m----> 2\u001b[0;31m \u001b[0mroi_fg\u001b[0m\u001b[0;34m[\u001b[0m\u001b[0;34m'LPFC'\u001b[0m\u001b[0;34m]\u001b[0m\u001b[0;34m.\u001b[0m\u001b[0mplot\u001b[0m\u001b[0;34m(\u001b[0m\u001b[0;34m)\u001b[0m\u001b[0;34m\u001b[0m\u001b[0;34m\u001b[0m\u001b[0m\n\u001b[0m",
      "\u001b[0;31mNameError\u001b[0m: name 'roi_fg' is not defined"
     ]
    }
   ],
   "source": [
    "print('LPFC')\n",
    "roi_fg['LPFC'].plot()"
   ]
  },
  {
   "cell_type": "code",
   "execution_count": 10,
   "metadata": {
    "collapsed": true
   },
   "outputs": [],
   "source": [
    "# Save out a specific FOOOF measure of interest - for example, slopes\n",
    "cf = fg.get_all_data('peak_params', 'CF')\n",
    "bw = fg.get_all_data('peak_params', 'BW')\n"
   ]
  },
  {
   "cell_type": "code",
   "execution_count": 16,
   "metadata": {},
   "outputs": [
    {
     "ename": "AttributeError",
     "evalue": "'list' object has no attribute '_asdict'",
     "output_type": "error",
     "traceback": [
      "\u001b[0;31m---------------------------------------------------------------------------\u001b[0m",
      "\u001b[0;31mAttributeError\u001b[0m                            Traceback (most recent call last)",
      "\u001b[0;32m<ipython-input-16-035af6160370>\u001b[0m in \u001b[0;36m<module>\u001b[0;34m\u001b[0m\n\u001b[1;32m      4\u001b[0m \u001b[0;31m# Convert FOOOF results to a dictionary\u001b[0m\u001b[0;34m\u001b[0m\u001b[0;34m\u001b[0m\u001b[0;34m\u001b[0m\u001b[0m\n\u001b[1;32m      5\u001b[0m \u001b[0;31m#  This is useful for saving out as a mat file\u001b[0m\u001b[0;34m\u001b[0m\u001b[0;34m\u001b[0m\u001b[0;34m\u001b[0m\u001b[0m\n\u001b[0;32m----> 6\u001b[0;31m \u001b[0mfooof_results_dict\u001b[0m \u001b[0;34m=\u001b[0m \u001b[0mfooof_results\u001b[0m\u001b[0;34m.\u001b[0m\u001b[0m_asdict\u001b[0m\u001b[0;34m(\u001b[0m\u001b[0;34m)\u001b[0m\u001b[0;34m\u001b[0m\u001b[0;34m\u001b[0m\u001b[0m\n\u001b[0m",
      "\u001b[0;31mAttributeError\u001b[0m: 'list' object has no attribute '_asdict'"
     ]
    }
   ],
   "source": [
    "# Extract FOOOF results from object\n",
    "fooof_results = fg.get_results()\n",
    "\n",
    "# Convert FOOOF results to a dictionary\n",
    "#  This is useful for saving out as a mat file\n",
    "fooof_results_dict = fooof_results._asdict()"
   ]
  },
  {
   "cell_type": "code",
   "execution_count": null,
   "metadata": {
    "collapsed": true
   },
   "outputs": [],
   "source": [
    "# Extract all fits that are above some error threshold, for further examination. \n",
    "#  You could also do a similar analysis for particularly low errors\n",
    "to_check = []\n",
    "for ind, res in enumerate(fg):\n",
    "    if res.error > 0.010:\n",
    "        to_check.append(fg.get_fooof(ind, regenerate=True))\n",
    "\n",
    "# A more condensed version of the procedure above can also be used, like this:\n",
    "#to_check = [fg.get_fooof(ind, True) for ind, res in enumerate(fg) if res.error > 0.010]"
   ]
  },
  {
   "cell_type": "code",
   "execution_count": null,
   "metadata": {
    "collapsed": true
   },
   "outputs": [],
   "source": [
    "# Loop through the problem fits, checking the plots, and saving out reports, to check later. \n",
    "for ind, fm in enumerate(to_check):\n",
    "    fm.plot()\n",
    "    fm.save_report('Report_ToCheck_#' + str(ind))"
   ]
  },
  {
   "cell_type": "markdown",
   "metadata": {},
   "source": [
    "## FOOOF Analysis"
   ]
  },
  {
   "cell_type": "code",
   "execution_count": 33,
   "metadata": {
    "collapsed": true
   },
   "outputs": [],
   "source": [
    "from fooof.analysis import get_band_peak, get_band_peak_group\n",
    "# Check out the documentation for the peak analyis helper function\n",
    "get_band_peak?"
   ]
  },
  {
   "cell_type": "code",
   "execution_count": null,
   "metadata": {
    "collapsed": true
   },
   "outputs": [],
   "source": [
    "# Set up indexes for accessing data, for convenience\n",
    "cf_ind, am_ind, bw_ind = 0, 1, 2\n",
    "# Define frequency bands of interest\n",
    "theta_band = [4, 8]\n",
    "alpha_band = [8, 12]"
   ]
  },
  {
   "cell_type": "code",
   "execution_count": null,
   "metadata": {
    "collapsed": true
   },
   "outputs": [],
   "source": [
    "# Get all alpha oscillations from a FOOOFGroup object\n",
    "alphas = get_band_peak_group(fg.get_all_data('peak_params'), alpha_band, len(fg))\n",
    "# Check out some of the alpha data\n",
    "alphas[0:5, :]"
   ]
  },
  {
   "cell_type": "code",
   "execution_count": null,
   "metadata": {
    "collapsed": true
   },
   "outputs": [],
   "source": [
    "# Check descriptive statistics of oscillation data\n",
    "print('Alpha CF : ', np.nanmean(alphas[:, cf_ind]))\n",
    "print('Alpha Amp: ', np.nanmean(alphas[:, am_ind]))\n",
    "print('Alpha BW : ', np.nanmean(alphas[:, bw_ind]))"
   ]
  },
  {
   "cell_type": "markdown",
   "metadata": {},
   "source": [
    "## Save Outputs"
   ]
  },
  {
   "cell_type": "code",
   "execution_count": 47,
   "metadata": {
    "collapsed": true
   },
   "outputs": [],
   "source": [
    "# Since I don't have json support (MATLAB > r2016B):\n",
    "#  Save out full FOOOFresults for each PSD fit separately to mat files\n",
    "SBJ_fooof_dir = SBJ_data_dir + an_id + '_results/'\n",
    "if not os.path.exists(SBJ_fooof_dir):\n",
    "    os.makedirs(SBJ_fooof_dir)\n",
    "fooof_ch_fname = SBJ_fooof_dir + SBJ + '_' + an_id + '_fooof_{0}.mat'\n",
    "for ind, f_res in enumerate(fg):\n",
    "    savemat(fooof_ch_fname.format(labels[ind]), f_res._asdict())"
   ]
  },
  {
   "cell_type": "markdown",
   "metadata": {},
   "source": [
    "## ========================================================\n",
    "# OLD HDF5 Loading Stuff"
   ]
  },
  {
   "cell_type": "code",
   "execution_count": 13,
   "metadata": {},
   "outputs": [
    {
     "data": {
      "text/plain": [
       "0"
      ]
     },
     "execution_count": 13,
     "metadata": {},
     "output_type": "execute_result"
    }
   ],
   "source": [
    "# Load an_vars\n",
    "call(['matlab', '-nojvm', root_dir+'PRJ_Stroop/scripts/an_vars/'+an_id+'_vars.m'])"
   ]
  },
  {
   "cell_type": "code",
   "execution_count": 39,
   "metadata": {
    "collapsed": true
   },
   "outputs": [],
   "source": [
    "# data = {}\n",
    "# f = h5py.File(preproc_fname)\n",
    "# for k, v in f['data'].items():\n",
    "#     data[k] = np.array(v)\n",
    "\n",
    "# with h5py.File(preproc_filename) as f:\n",
    "#     trial_pointer = f['data']['trial'][0]\n",
    "#     trial = f[trial_pointer]\n",
    "    \n",
    "# trial.shape\n",
    "\n",
    "# tmp = []\n",
    "# with h5py.File(preproc_filename) as f:\n",
    "#     for column in f['data']:\n",
    "#         row_data = []\n",
    "#         for row_number in range(len(column)):            \n",
    "#             row_data.append(''.join(map(unichr, f[column[row_number]][:])))   \n",
    "#         data.append(row_data)\n",
    "\n",
    "# print(data)\n",
    "# #print np.transpose(data)"
   ]
  }
 ],
 "metadata": {
  "kernelspec": {
   "display_name": "Py36 (mne)",
   "language": "python",
   "name": "mne"
  },
  "language_info": {
   "codemirror_mode": {
    "name": "ipython",
    "version": 3
   },
   "file_extension": ".py",
   "mimetype": "text/x-python",
   "name": "python",
   "nbconvert_exporter": "python",
   "pygments_lexer": "ipython3",
   "version": "3.6.7"
  }
 },
 "nbformat": 4,
 "nbformat_minor": 2
}
